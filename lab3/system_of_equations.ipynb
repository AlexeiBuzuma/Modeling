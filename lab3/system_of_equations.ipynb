{
 "cells": [
  {
   "cell_type": "markdown",
   "metadata": {
    "collapsed": true
   },
   "source": [
    "# Решаем систему уравнений"
   ]
  },
  {
   "cell_type": "code",
   "execution_count": 10,
   "metadata": {},
   "outputs": [],
   "source": [
    "pi1 = 0.75\n",
    "pi2 = 0.6\n",
    "\n",
    "_pi1 = 1 - pi1\n",
    "_pi2 = 1 - pi2"
   ]
  },
  {
   "cell_type": "code",
   "execution_count": 30,
   "metadata": {},
   "outputs": [],
   "source": [
    "matrix = np.array([\n",
    "    [1, 1, 1, 1, 1, 1, 1, 1, 1, 1],\n",
    "    [1, -1, _pi1, 0, _pi1*_pi2, 0, 0, 0, 0, 0],\n",
    "    [0, 1, -1, _pi1, 0, _pi2, _pi1*_pi2, _pi1*_pi2, 0, 0],\n",
    "    [0, 0, pi1, -1, pi1*_pi2, 0, 0, 0, 0, 0],\n",
    "    [0, 0, 0, pi1, -1, pi2, pi1*pi2, 0, _pi1*_pi2, _pi1*_pi2],\n",
    "    [0, 0, 0, 0, _pi1*pi2, -1, 0, 0, 0, 0],\n",
    "    [0, 0, 0, 0, pi1*pi2, 0, -1, _pi1*pi2 + _pi2*pi1, 0, 0],\n",
    "    [0, 0, 0, 0, 0, 0, pi1*pi2, -1, _pi1*pi2 + _pi2*pi1, _pi1*pi2 + _pi2*pi1],\n",
    "    [0, 0, 0, 0, 0, 0, 0, pi1*pi2, -1, 0],\n",
    "    [0, 0, 0, 0, 0, 0, 0, 0, pi1*pi2, -1 + pi1*pi2]\n",
    "])\n",
    "\n",
    "b = np.array([1, 0, 0, 0, 0, 0, 0, 0, 0, 0])"
   ]
  },
  {
   "cell_type": "code",
   "execution_count": 33,
   "metadata": {},
   "outputs": [
    {
     "name": "stdout",
     "output_type": "stream",
     "text": [
      "[-5.5511151231257827e-17,\n 0.059147391073038263,\n 0.1437516305409553,\n 0.17744217321911485,\n 0.23209483437799447,\n 0.034814225156699172,\n 0.15370600201528378,\n 0.10947405898930282,\n 0.049263326545186267,\n 0.04030635808242513]\n"
     ]
    }
   ],
   "source": [
    "import numpy as np\n",
    "\n",
    "# a = np.array([[3,1], [1,2]])\n",
    "# b = np.array([9,8])\n",
    "x = np.linalg.solve(matrix, b)\n",
    "from pprint import pprint\n",
    "pprint(list(x))"
   ]
  },
  {
   "cell_type": "code",
   "execution_count": 35,
   "metadata": {},
   "outputs": [
    {
     "data": {
      "text/plain": [
       "array([  1.00000000e+00,  -4.51028104e-17,   8.67361738e-18,\n        -1.38777878e-17,   9.54097912e-18,   0.00000000e+00,\n        -6.93889390e-18,   1.38777878e-17,  -6.93889390e-18,\n        -6.93889390e-18])"
      ]
     },
     "execution_count": 35,
     "metadata": {},
     "output_type": "execute_result"
    }
   ],
   "source": [
    "np.dot(matrix, x)\n",
    "# print(a)\n",
    "# print(x)"
   ]
  }
 ],
 "metadata": {
  "kernelspec": {
   "display_name": "Python 2",
   "language": "python",
   "name": "python2"
  },
  "language_info": {
   "codemirror_mode": {
    "name": "ipython",
    "version": 2.0
   },
   "file_extension": ".py",
   "mimetype": "text/x-python",
   "name": "python",
   "nbconvert_exporter": "python",
   "pygments_lexer": "ipython2",
   "version": "2.7.6"
  }
 },
 "nbformat": 4,
 "nbformat_minor": 0
}