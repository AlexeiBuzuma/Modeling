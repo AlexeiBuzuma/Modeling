{
 "cells": [
  {
   "cell_type": "markdown",
   "metadata": {},
   "source": [
    "# Lehmer generator of uniformly distributed random numbers."
   ]
  },
  {
   "cell_type": "code",
   "execution_count": 35,
   "metadata": {
    "collapsed": true
   },
   "outputs": [],
   "source": [
    "DEFAULT_FACTOR = '134775813'\n",
    "DEFAULT_MODULE = '134775811'\n",
    "DEFAULT_INTERVALS = '20'\n",
    "DEFAULT_AMOUNT = '50000'\n",
    "DEFAULT_SEED = '1'"
   ]
  },
  {
   "cell_type": "code",
   "execution_count": 36,
   "metadata": {
    "collapsed": true
   },
   "outputs": [],
   "source": [
    "class Lehmer:\n",
    "    \"\"\" R[n] = factor * R[n-1] % module, n > 1\n",
    "    \"\"\"\n",
    "\n",
    "    def __init__(self, *, factor, module, seed):\n",
    "        \"\"\"\n",
    "        \"\"\"\n",
    "\n",
    "        self.__factor = factor\n",
    "\n",
    "        if not module > 0:\n",
    "            raise AttributeError(\"Module must be greater than zero 0\")\n",
    "        self.__module = module\n",
    "\n",
    "        self.__current_state = seed\n",
    "\n",
    "    @property\n",
    "    def factor(self):\n",
    "        return self.__factor\n",
    "\n",
    "    @property\n",
    "    def module(self):\n",
    "        return self.__module\n",
    "\n",
    "    @property\n",
    "    def current_state(self):\n",
    "        return self.__current_state\n",
    "\n",
    "    def __call__(self, *args, **kwargs):\n",
    "        \"\"\"\n",
    "        \"\"\"\n",
    "\n",
    "        while True:\n",
    "            number = self.factor * self.current_state % self.module\n",
    "            yield number / self.module\n",
    "            self.__current_state = number"
   ]
  },
  {
   "cell_type": "code",
   "execution_count": 37,
   "metadata": {
    "collapsed": true
   },
   "outputs": [],
   "source": [
    "import numpy as np\n",
    "# from generators import Lehmer\n",
    "import itertools\n",
    "\n",
    "\n",
    "numbers = None\n",
    "\n",
    "\n",
    "def generate_random_numbers(factor, module, amount, seed=1):\n",
    "    \"\"\" Generate sequence of random numbers.\n",
    "    \"\"\"\n",
    "    \n",
    "    generator = Lehmer(factor=factor, module=module, seed=seed)\n",
    "    return list(itertools.islice(generator(), amount))\n",
    "    \n",
    "\n",
    "def calculate_expected_value(numbers):\n",
    "    \"\"\"  Calculates expected values of list of numbers\n",
    "    \"\"\"\n",
    "    \n",
    "    return np.mean(numbers)\n",
    "\n",
    "\n",
    "def calculate_variance(numbers):\n",
    "    \"\"\"  Calculates variance of list of numbers.\n",
    "    \"\"\"\n",
    "    \n",
    "    expected_value = calculate_expected_value(numbers)\n",
    "    return sum((number - expected_value) ** 2 for number in numbers) / (len(numbers) - 1)\n",
    "\n",
    "\n",
    "def calculate_uniformity(numbers):\n",
    "    nums = numbers[:]\n",
    "    \n",
    "    counter = 0\n",
    "    for index in range(len(nums) // 2):\n",
    "        num1 = nums.pop()\n",
    "        num2 = nums.pop()\n",
    "\n",
    "        if (num1 ** 2 + num2 ** 2) < 1:\n",
    "            counter += 1\n",
    "    return counter*2 / state.amount\n",
    "\n",
    "def get_info_about_period(numbers):\n",
    "    \"\"\" \n",
    "    \"\"\"\n",
    "    \n",
    "    last_number = numbers[-1]\n",
    "    local_numbers = list(numbers[:-1])\n",
    "    \n",
    "    if last_number not in local_numbers:\n",
    "        return \"period > {}\".format(len(numbers))\n",
    "    \n",
    "    local_numbers = list(reversed(local_numbers))\n",
    "    period = local_numbers.index(last_number)\n",
    "    \n",
    "    return int(period)"
   ]
  },
  {
   "cell_type": "code",
   "execution_count": 38,
   "metadata": {
    "collapsed": true
   },
   "outputs": [],
   "source": [
    "import pandas as pd\n",
    "import math\n",
    "from collections import OrderedDict\n",
    "\n",
    "def calculate_and_show_table(numbers):\n",
    "    \"\"\" Show table with some info about Lehmer generator.\n",
    "    \"\"\"\n",
    "\n",
    "    data = OrderedDict()\n",
    "\n",
    "    expected_value = calculate_expected_value(numbers)\n",
    "    variance = calculate_variance(numbers)\n",
    "    uniformity = calculate_uniformity(numbers)\n",
    "    period = get_info_about_period(numbers)\n",
    "\n",
    "    data[\"Expected value\"] = expected_value\n",
    "    data[\"Variance\"] = variance\n",
    "    data[\"Standard deviation\"] = math.sqrt(variance)\n",
    "    data[\"Period\"] = period\n",
    "    if type(period) != str:\n",
    "        data[\"Апереодичность\"] = period + len(numbers) % period\n",
    "    data[\"Uniformity\"] = uniformity\n",
    "    data[\"Pi/4\"] = math.pi / 4\n",
    "    \n",
    "    data = pd.Series(data)\n",
    "\n",
    "    print(pd.DataFrame(data))\n"
   ]
  },
  {
   "cell_type": "code",
   "execution_count": 39,
   "metadata": {
    "collapsed": true
   },
   "outputs": [],
   "source": [
    "%matplotlib inline \n",
    "import matplotlib.pyplot as plt\n",
    "\n",
    "\n",
    "def print_histogram(numbers):\n",
    "    \"\"\" Show histogram.\n",
    "    \"\"\"\n",
    "    \n",
    "    plt.hist(numbers, state.intervals, facecolor='blue')\n",
    "\n",
    "    plt.xlabel('Values')\n",
    "    plt.ylabel('Number of values')\n",
    "    plt.title('Histogram')\n",
    "\n",
    "    plt.grid(True)\n",
    "\n",
    "    plt.show()"
   ]
  },
  {
   "cell_type": "code",
   "execution_count": 40,
   "metadata": {
    "collapsed": true
   },
   "outputs": [],
   "source": [
    "%matplotlib inline \n",
    "\n",
    "def print_fft(numbers):\n",
    "    \"\"\"  Show fft graphic.\n",
    "    \"\"\"\n",
    "    \n",
    "    fc = np.fft.fft(numbers)\n",
    "    fc = list(map(np.angle, fc))\n",
    "    \n",
    "    plt.grid()\n",
    "    plt.plot(fc, linestyle = \":\",\n",
    "        marker = \"h\",\n",
    "        color = \"m\",\n",
    "        markerfacecolor = \"c\")\n",
    "\n",
    "    plt.show()"
   ]
  },
  {
   "cell_type": "code",
   "execution_count": 41,
   "metadata": {
    "collapsed": true
   },
   "outputs": [],
   "source": [
    "def main():\n",
    "    numbers = generate_random_numbers(state.factor, state.module, state.amount, seed=1)\n",
    "    \n",
    "    calculate_and_show_table(numbers)\n",
    "    print_histogram(numbers)\n",
    "#     from pprint import pprint\n",
    "#     pprint(numbers)\n",
    "    # print_fft(numbers)"
   ]
  },
  {
   "cell_type": "code",
   "execution_count": 43,
   "metadata": {
    "collapsed": false,
    "scrolled": true
   },
   "outputs": [
    {
     "name": "stdout",
     "output_type": "stream",
     "text": [
      "                           0\n",
      "Expected value      0.500000\n",
      "Variance            0.050001\n",
      "Standard deviation  0.223609\n",
      "Period              3.000000\n",
      "Апереодичность      5.000000\n",
      "Uniformity          0.500000\n",
      "Pi/4                0.785398\n"
     ]
    },
    {
     "data": {
      "image/png": "[encoded data removed]",
      "text/plain": [
       "<matplotlib.figure.Figure at 0x7f08286cb828>"
      ]
     },
     "metadata": {},
     "output_type": "display_data"
    }
   ],
   "source": [
    "from ipywidgets import widgets, interact\n",
    "from IPython.display import display\n",
    "\n",
    "\n",
    "class State:\n",
    "    \n",
    "    def __init__(self):\n",
    "        self.__factor = int(DEFAULT_FACTOR)\n",
    "        self.__module = int(DEFAULT_MODULE)\n",
    "        self.__intervals = int(DEFAULT_INTERVALS)\n",
    "        self.__amount = int(DEFAULT_AMOUNT)\n",
    "        self.__seed = int(DEFAULT_SEED)\n",
    "    \n",
    "    # --- Getters ---\n",
    "    @property\n",
    "    def factor(self):\n",
    "        return self.__factor\n",
    "    \n",
    "    @property\n",
    "    def module(self):\n",
    "        return self.__module\n",
    "    \n",
    "    @property\n",
    "    def intervals(self):\n",
    "        return self.__intervals\n",
    "    \n",
    "    @property\n",
    "    def amount(self):\n",
    "        return self.__amount\n",
    "    \n",
    "    @property\n",
    "    def seed(self):\n",
    "        return self.__seed\n",
    "    \n",
    "    # --- Setters ---\n",
    "    @factor.setter\n",
    "    def factor(self, value):\n",
    "        self.__factor = int(value)\n",
    "        \n",
    "    @module.setter\n",
    "    def module(self, value):\n",
    "        self.__module = int(value)\n",
    "    \n",
    "    @intervals.setter\n",
    "    def intervals(self, value):\n",
    "        self.__intervals = int(value)\n",
    "    \n",
    "    @amount.setter\n",
    "    def amount(self, value):\n",
    "        self.__amount = int(value)\n",
    "    \n",
    "    @seed.setter\n",
    "    def seed(self, value):\n",
    "        self.__seed = int(value)\n",
    "\n",
    "state = State()\n",
    "\n",
    "def _handler(factor, module, intervals, amount, seed):\n",
    "    \"\"\"  Event handler for cange state of inputs.\n",
    "    \"\"\"\n",
    "    \n",
    "    state.factor = factor\n",
    "    state.module = module\n",
    "    state.intervals = intervals\n",
    "    state.amount = amount \n",
    "    state.seed = seed\n",
    "\n",
    "interact(_handler, factor=DEFAULT_FACTOR, module=DEFAULT_MODULE, intervals=DEFAULT_INTERVALS,\n",
    "        amount=DEFAULT_AMOUNT, seed=DEFAULT_SEED)\n",
    "\n",
    "button = widgets.Button(description=\"Calculate\")\n",
    "display(button)\n",
    "\n",
    "def on_button_clicked(button):\n",
    "    main()\n",
    "\n",
    "button.on_click(on_button_clicked)\n",
    "\n"
   ]
  },
  {
   "cell_type": "code",
   "execution_count": null,
   "metadata": {
    "collapsed": true
   },
   "outputs": [],
   "source": []
  },
  {
   "cell_type": "code",
   "execution_count": null,
   "metadata": {
    "collapsed": true
   },
   "outputs": [],
   "source": []
  },
  {
   "cell_type": "code",
   "execution_count": null,
   "metadata": {
    "collapsed": true
   },
   "outputs": [],
   "source": []
  }
 ],
 "metadata": {
  "kernelspec": {
   "display_name": "Python 3",
   "language": "python",
   "name": "python3"
  },
  "language_info": {
   "codemirror_mode": {
    "name": "ipython",
    "version": 3
   },
   "file_extension": ".py",
   "mimetype": "text/x-python",
   "name": "python",
   "nbconvert_exporter": "python",
   "pygments_lexer": "ipython3",
   "version": "3.5.2"
  }
 },
 "nbformat": 4,
 "nbformat_minor": 0
}
